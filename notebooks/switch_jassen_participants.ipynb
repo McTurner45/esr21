{
 "cells": [
  {
   "cell_type": "code",
   "execution_count": 1,
   "id": "2605f8bd",
   "metadata": {},
   "outputs": [],
   "source": [
    "import os, sys\n",
    "import django\n",
    "import pytz\n",
    "from dateutil import parser\n",
    "from django.utils.timezone import make_aware\n",
    "os.environ[\"DJANGO_ALLOW_ASYNC_UNSAFE\"] = \"true\"\n",
    "\n",
    "sys.path.append('../..') # add path to project root dir\n",
    "os.environ[\"DJANGO_SETTINGS_MODULE\"] = \"esr21.settings\"\n",
    "\n",
    "# Connect to Django ORM\n",
    "django.setup()"
   ]
  },
  {
   "cell_type": "code",
   "execution_count": 4,
   "id": "5b93ae48",
   "metadata": {},
   "outputs": [
    {
     "data": {
      "text/plain": [
       "<QuerySet ['150-040993793-3', '150-040993788-3', '150-040993833-7', '150-040993774-3', '150-040993807-1', '150-040993826-1', '150-040993790-9']>"
      ]
     },
     "execution_count": 4,
     "metadata": {},
     "output_type": "execute_result"
    }
   ],
   "source": [
    "idxs = VaccinationHistory.objects.filter(\n",
    "    dose_quantity='1', dose1_product_name='janssen').values_list('subject_identifier', flat=True)\n",
    "booster_doses = VaccinationDetails.objects.filter(site_id=40,\n",
    "    received_dose_before='booster_dose', subject_visit__subject_identifier__in=idxs).values_list('subject_visit__subject_identifier', flat=True)\n",
    "booster_doses"
   ]
  },
  {
   "cell_type": "code",
   "execution_count": 5,
   "id": "af48cc1d",
   "metadata": {},
   "outputs": [
    {
     "name": "stdout",
     "output_type": "stream",
     "text": [
      "<QuerySet [<Appointment: 1170.0>]>\n",
      "<QuerySet [<Appointment: 1170.0>]>\n",
      "<QuerySet [<Appointment: 1170.0>]>\n",
      "<QuerySet [<Appointment: 1170.0>]>\n",
      "<QuerySet [<Appointment: 1170.0>]>\n",
      "<QuerySet [<Appointment: 1170.0>]>\n",
      "<QuerySet [<Appointment: 1170.0>]>\n"
     ]
    }
   ],
   "source": [
    "from esr21_subject.helper_classes import EnrollmentHelper\n",
    "from edc_appointment.constants import NEW_APPT\n",
    "subject_idxs = booster_doses\n",
    "for idx in subject_idxs:\n",
    "    try:\n",
    "        VaccinationHistory.objects.get(subject_identifier=idx)\n",
    "    except VaccinationHistory.DoesNotExist:\n",
    "        print('vaccination history missing for, ', idx)\n",
    "    else:\n",
    "        # Change existing schedule name **onschedule and history obj\n",
    "        # Consideration for cohort ??\n",
    "        onschedule = OnSchedule.objects.filter(subject_identifier=idx)\n",
    "        \n",
    "        cohort = onschedule.first().schedule_name.replace('_boost_schedule', '')\n",
    "        old_schedule_name = onschedule.first().schedule_name\n",
    "        placeholder_name = f'{old_schedule_name}_old'\n",
    "\n",
    "        onschedule.update(schedule_name=placeholder_name)\n",
    "        SubjectScheduleHistory.objects.filter(subject_identifier=idx).update(schedule_name=placeholder_name)\n",
    "\n",
    "        # Update appts and switch completed visits\n",
    "        appts = Appointment.objects.filter(subject_identifier=idx).exclude(appt_status=NEW_APPT)\n",
    "        print(appts)\n",
    "        \n",
    "        # Put subject on correct schedules\n",
    "        helper = EnrollmentHelper(cohort=cohort, subject_identifier=idx)\n",
    "        helper.schedule_enrol()\n",
    "\n",
    "        # Update second dose appointments with data from booster appointments\n",
    "        for appt in appts:\n",
    "            rel_code = None\n",
    "            if appt.visit_code == '1170':\n",
    "                rel_code = '1070'\n",
    "            elif appt.visit_code == '1198':\n",
    "                rel_code = '1098'\n",
    "    \n",
    "            new_appt = Appointment.objects.filter(\n",
    "                subject_identifier=idx, visit_code=rel_code, visit_code_sequence=appt.visit_code_sequence)\n",
    "            new_appt.update(\n",
    "                appt_datetime=appt.appt_datetime,\n",
    "                appt_type=appt.appt_type,\n",
    "                appt_status=appt.appt_status,\n",
    "                appt_reason=appt.appt_reason,\n",
    "                comment=appt.comment)\n",
    "\n",
    "            # Update related subject visits\n",
    "            try:\n",
    "                visit = SubjectVisit.objects.get(appointment=appt)\n",
    "            except SubjectVisit.DoesNotExist:\n",
    "                pass\n",
    "            else:\n",
    "                # Update related appt to new_appt, and schedule name.\n",
    "                visit.appointment=new_appt[0]\n",
    "                visit.schedule_name=new_appt[0].schedule_name\n",
    "                visit.save()\n",
    "\n",
    "                # Update vaccination details, received dose 'booster' --> 'second' dose.\n",
    "                vac_details = VaccinationDetails.objects.filter(subject_visit=visit)\n",
    "                if vac_details:\n",
    "                    vac_details.update(received_dose_before = 'second_dose')\n",
    "        \n",
    "            # Reset old appointments\n",
    "            appt.appt_status = NEW_APPT\n",
    "            appt.appt_reason = ''\n",
    "            appt.save()\n",
    "\n",
    "        # Delete old onschedules, and history\n",
    "        OnSchedule.objects.filter(subject_identifier=idx, schedule_name=placeholder_name).delete()\n",
    "        SubjectScheduleHistory.objects.filter(subject_identifier=idx, schedule_name=placeholder_name).delete()"
   ]
  },
  {
   "cell_type": "code",
   "execution_count": null,
   "id": "4c0bf47d",
   "metadata": {},
   "outputs": [],
   "source": []
  }
 ],
 "metadata": {
  "kernelspec": {
   "display_name": "Django Shell-Plus",
   "language": "python",
   "name": "django_extensions"
  },
  "language_info": {
   "codemirror_mode": {
    "name": "ipython",
    "version": 3
   },
   "file_extension": ".py",
   "mimetype": "text/x-python",
   "name": "python",
   "nbconvert_exporter": "python",
   "pygments_lexer": "ipython3",
   "version": "3.8.10"
  }
 },
 "nbformat": 4,
 "nbformat_minor": 5
}
